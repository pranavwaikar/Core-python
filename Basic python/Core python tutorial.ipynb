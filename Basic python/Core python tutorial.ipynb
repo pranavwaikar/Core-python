{
 "cells": [
  {
   "cell_type": "markdown",
   "metadata": {},
   "source": [
    "# Python Tutorial for Beginners [Full Course] 2019 \n",
    "https://www.youtube.com/watch?v=_uQrJ0TkZlc"
   ]
  },
  {
   "cell_type": "code",
   "execution_count": 2,
   "metadata": {},
   "outputs": [
    {
     "name": "stdout",
     "output_type": "stream",
     "text": [
      "Hello world\n"
     ]
    }
   ],
   "source": [
    "print(\"Hello world\")"
   ]
  },
  {
   "cell_type": "code",
   "execution_count": 3,
   "metadata": {},
   "outputs": [
    {
     "name": "stdout",
     "output_type": "stream",
     "text": [
      "**********\n"
     ]
    }
   ],
   "source": [
    "# interpreter evaluates the expressions and then prints the statement on terminal.\n",
    "print('*' * 10)"
   ]
  },
  {
   "cell_type": "code",
   "execution_count": 4,
   "metadata": {},
   "outputs": [
    {
     "name": "stdout",
     "output_type": "stream",
     "text": [
      "20\n",
      "pranav\n"
     ]
    }
   ],
   "source": [
    "price = 10\n",
    "price = 20\n",
    "print(price)\n",
    "\n",
    "name='pranav'\n",
    "print(name)"
   ]
  },
  {
   "cell_type": "code",
   "execution_count": 5,
   "metadata": {},
   "outputs": [
    {
     "name": "stdout",
     "output_type": "stream",
     "text": [
      "True\n"
     ]
    }
   ],
   "source": [
    "# True or False, T&F should be capital\n",
    "is_installed = True\n",
    "print(is_installed)"
   ]
  },
  {
   "cell_type": "markdown",
   "metadata": {},
   "source": [
    "# Small patient info system for hospital"
   ]
  },
  {
   "cell_type": "code",
   "execution_count": 6,
   "metadata": {},
   "outputs": [
    {
     "name": "stdout",
     "output_type": "stream",
     "text": [
      "Patient name -pranav waikar\n",
      "Patient age -23\n",
      "is Patient new -True\n"
     ]
    }
   ],
   "source": [
    "Patient_name = 'pranav waikar'\n",
    "Patient_age = 23\n",
    "Patient_is_new = True\n",
    "\n",
    "#you need to convert other data types to string using str() function.\n",
    "print('Patient name -' + Patient_name)\n",
    "print('Patient age -' + str(Patient_age))\n",
    "print('is Patient new -' + str(Patient_is_new))"
   ]
  },
  {
   "cell_type": "code",
   "execution_count": 7,
   "metadata": {},
   "outputs": [
    {
     "name": "stdout",
     "output_type": "stream",
     "text": [
      "Hello, Enter name of patient-pranav\n",
      "Got name - pranav\n",
      "Enter birth year - 1997\n",
      "Your age is - 22\n",
      "<class 'int'>\n"
     ]
    }
   ],
   "source": [
    "Patient_name=input('Hello, Enter name of patient-')\n",
    "print('Got name - ' + Patient_name)\n",
    "\n",
    "# take care of TypeError in python use int() float() str() etc\n",
    "Current_year = 2019\n",
    "Birth_year = input('Enter birth year - ')\n",
    "age = Current_year - int(Birth_year)\n",
    "print('Your age is - ' + str(age))\n",
    "print(type(age))"
   ]
  },
  {
   "cell_type": "code",
   "execution_count": 8,
   "metadata": {},
   "outputs": [
    {
     "name": "stdout",
     "output_type": "stream",
     "text": [
      "Tutorial for \"python\" \n",
      " python's tutorial \n",
      "\n",
      "Hi,\n",
      "this is multi line string with triple quotes.\n",
      "\n",
      "single quote - pranav's\n",
      " \"special recipie\"\n",
      " \n"
     ]
    }
   ],
   "source": [
    "# STRINGS and its types\n",
    "course = 'Tutorial for \"python\" ' # to print double quote use single quote\n",
    "print(course)\n",
    "course = \" python's tutorial \" # to print single quote use double quote\n",
    "print(course)\n",
    "\n",
    "#multi-line strings\n",
    "msg = '''\n",
    "Hi,\n",
    "this is multi line string with triple quotes.\n",
    "\n",
    "single quote - pranav's\n",
    " \"special recipie\"\n",
    " '''\n",
    "print(msg)"
   ]
  },
  {
   "cell_type": "code",
   "execution_count": 9,
   "metadata": {},
   "outputs": [
    {
     "name": "stdout",
     "output_type": "stream",
     "text": [
      "c\n",
      "e\n",
      "com\n",
      "compu\n",
      "computer science\n",
      "computer science\n",
      "enife\n"
     ]
    }
   ],
   "source": [
    "#square bracket synax\n",
    "course = 'computer science'\n",
    "print(course[0]) #positive index gives starting chars\n",
    "print(course[-1]) #negative index gives ending chars \n",
    "print(course[0:3]) #it will print the specified index upto end. char 0,1,2 are printed. 3 is not printed\n",
    "print(course[:5]) #from start upto 5 chars are printed, 0 is assumed as start index\n",
    "print(course[0:]) #from 0 upto end are printed, length of string is assumed as end index\n",
    "another = course[:] #entire  string is copied \n",
    "print(another)\n",
    "\n",
    "#TRICKY PROBLEM\n",
    "name='jenifer'\n",
    "print(name[1:-1]) #prints enife , the last -1th char will be omited, 1st to -1th will be shown"
   ]
  },
  {
   "cell_type": "markdown",
   "metadata": {},
   "source": [
    "# Formatted strings"
   ]
  },
  {
   "cell_type": "code",
   "execution_count": 10,
   "metadata": {},
   "outputs": [
    {
     "name": "stdout",
     "output_type": "stream",
     "text": [
      "pranav [waikar] is coder\n",
      "pranav [waikar] is a coder\n"
     ]
    }
   ],
   "source": [
    "#Formatted strings\n",
    "first = 'pranav'\n",
    "last = 'waikar'\n",
    "# simple concat code, works but hard to visualize and type\n",
    "msg = first + ' [' + last +'] is coder'\n",
    "print(msg)\n",
    "# formatted string starts with f'<string>' , you can use {<varName>} , easy way!\n",
    "msg = f'{first} [{last}] is a coder'\n",
    "print(msg)"
   ]
  },
  {
   "cell_type": "markdown",
   "metadata": {},
   "source": [
    "# STRING Functions -> best for automata like manipulation"
   ]
  },
  {
   "cell_type": "code",
   "execution_count": 11,
   "metadata": {},
   "outputs": [
    {
     "name": "stdout",
     "output_type": "stream",
     "text": [
      "20\n",
      "PYTHON FOR BEGINNERS\n",
      "python for beginners\n",
      "0\n",
      "11\n",
      "Python for Absolute begineers\n",
      "Python for Beginners\n"
     ]
    }
   ],
   "source": [
    "#STRING Functions -> best for automata like manipulation\n",
    "course = 'Python for Beginners'\n",
    "#len() is a separate function not a method of string class\n",
    "print(len(course))\n",
    "#string class methods below\n",
    "print(course.upper()) #original string is not modified\n",
    "print(course.lower())\n",
    "\n",
    "print(course.find('P')) # index of first match char is returned\n",
    "print(course.find('Beginners'))\n",
    "\n",
    "print(course.replace('Beginners','Absolute begineers')) #result does not affect original string\n",
    "print(course)"
   ]
  },
  {
   "cell_type": "code",
   "execution_count": 12,
   "metadata": {},
   "outputs": [
    {
     "name": "stdout",
     "output_type": "stream",
     "text": [
      "True\n"
     ]
    }
   ],
   "source": [
    "#in operator returns true or false not the index ,Boolean returned\n",
    "print('Python' in course)"
   ]
  },
  {
   "cell_type": "markdown",
   "metadata": {},
   "source": [
    "# Arithmatic operator"
   ]
  },
  {
   "cell_type": "code",
   "execution_count": 13,
   "metadata": {},
   "outputs": [
    {
     "name": "stdout",
     "output_type": "stream",
     "text": [
      "20\n"
     ]
    }
   ],
   "source": [
    "x=10\n",
    "x=x+10\n",
    "print(x)"
   ]
  },
  {
   "cell_type": "code",
   "execution_count": 14,
   "metadata": {},
   "outputs": [
    {
     "name": "stdout",
     "output_type": "stream",
     "text": [
      "30\n",
      "27\n"
     ]
    }
   ],
   "source": [
    "#augmented assignment operator\n",
    "x=x+10\n",
    "print(x)\n",
    "x-=3\n",
    "print(x)"
   ]
  },
  {
   "cell_type": "markdown",
   "metadata": {},
   "source": [
    "# Operator precedence"
   ]
  },
  {
   "cell_type": "markdown",
   "metadata": {},
   "source": [
    "1. Exponent\n",
    "2. Multiplication or Division\n",
    "3. Addition or subtraction\n",
    "\n",
    "parathesis is solved first\n"
   ]
  },
  {
   "cell_type": "code",
   "execution_count": 15,
   "metadata": {},
   "outputs": [
    {
     "name": "stdout",
     "output_type": "stream",
     "text": [
      "64\n",
      "324\n",
      "18.6\n",
      "18\n"
     ]
    }
   ],
   "source": [
    "y= 10+ 2*3 ** 3\n",
    "print(y)\n",
    "y= (10+ 2)*3 ** 3\n",
    "print(y)\n",
    "# using one division bar gives floating point answer\n",
    "print(93/5)\n",
    "#using two division bar gives integer answer ie.ceil() answer\n",
    "print(93//5)"
   ]
  },
  {
   "cell_type": "code",
   "execution_count": 16,
   "metadata": {},
   "outputs": [
    {
     "name": "stdout",
     "output_type": "stream",
     "text": [
      "3\n",
      "2\n",
      "2\n"
     ]
    }
   ],
   "source": [
    "print(round(2.6)) #round out no to nearest complete integer\n",
    "print(round(2.5))\n",
    "print(round(2.3))"
   ]
  },
  {
   "cell_type": "code",
   "execution_count": 17,
   "metadata": {},
   "outputs": [
    {
     "name": "stdout",
     "output_type": "stream",
     "text": [
      "2.6\n",
      "2.8\n"
     ]
    }
   ],
   "source": [
    "print(abs(2.6)) #always returns positive value, no matter what entered\n",
    "print(abs(-2.8))"
   ]
  },
  {
   "cell_type": "code",
   "execution_count": 18,
   "metadata": {},
   "outputs": [
    {
     "name": "stdout",
     "output_type": "stream",
     "text": [
      "2\n",
      "3\n"
     ]
    }
   ],
   "source": [
    "#USING MODULES\n",
    "import math\n",
    "print(math.floor(2.9))\n",
    "print(math.ceil(2.8))"
   ]
  },
  {
   "cell_type": "code",
   "execution_count": 19,
   "metadata": {},
   "outputs": [
    {
     "name": "stdout",
     "output_type": "stream",
     "text": [
      "yeah\n",
      "ok\n"
     ]
    }
   ],
   "source": [
    "if(False):\n",
    "    print('yes') #you can write multiple indented statements\n",
    "elif(True):\n",
    "    print('yeah')\n",
    "else:\n",
    "    print('No')\n",
    "print('ok') #press Shift+Tab to end the indentation"
   ]
  },
  {
   "cell_type": "markdown",
   "metadata": {},
   "source": [
    "# Logical operators"
   ]
  },
  {
   "cell_type": "code",
   "execution_count": 20,
   "metadata": {},
   "outputs": [
    {
     "name": "stdout",
     "output_type": "stream",
     "text": [
      "AND operator successful\n"
     ]
    }
   ],
   "source": [
    "val1 = True\n",
    "val2 = True\n",
    "if val1 and val2: #AND operator\n",
    "    print('AND operator successful')"
   ]
  },
  {
   "cell_type": "code",
   "execution_count": 21,
   "metadata": {},
   "outputs": [
    {
     "name": "stdout",
     "output_type": "stream",
     "text": [
      "OR operator successful\n"
     ]
    }
   ],
   "source": [
    "val1 = True\n",
    "val2 = False\n",
    "if val1 or val2: #OR operator\n",
    "    print('OR operator successful')"
   ]
  },
  {
   "cell_type": "code",
   "execution_count": 22,
   "metadata": {},
   "outputs": [
    {
     "name": "stdout",
     "output_type": "stream",
     "text": [
      "NOT operator successful\n"
     ]
    }
   ],
   "source": [
    "val1 = True\n",
    "val2 = False\n",
    "if val1 and not val2: #NOT operator, if second value is false then exp returns True\n",
    "    print('NOT operator successful')"
   ]
  },
  {
   "cell_type": "markdown",
   "metadata": {},
   "source": [
    "# Pyramid pattern ussing while loop"
   ]
  },
  {
   "cell_type": "code",
   "execution_count": 23,
   "metadata": {},
   "outputs": [
    {
     "name": "stdout",
     "output_type": "stream",
     "text": [
      "*\n",
      "**\n",
      "***\n",
      "****\n",
      "*****\n"
     ]
    }
   ],
   "source": [
    "i=1\n",
    "while i<=5:\n",
    "    print('*' * i)\n",
    "    i+=1"
   ]
  },
  {
   "cell_type": "markdown",
   "metadata": {},
   "source": [
    "# while-else loop guessing game"
   ]
  },
  {
   "cell_type": "markdown",
   "metadata": {},
   "source": [
    "while loop in python has an else part like if.\n",
    "if you complete all the iterations of loop without breaking out of it, \n",
    "then else part of while loop gets executed"
   ]
  },
  {
   "cell_type": "code",
   "execution_count": 24,
   "metadata": {},
   "outputs": [
    {
     "name": "stdout",
     "output_type": "stream",
     "text": [
      "Enter your guess-8\n",
      "Enter your guess-7\n",
      "Enter your guess-9\n",
      "Correct guess\n"
     ]
    }
   ],
   "source": [
    "secret = 9\n",
    "guess_count = 0\n",
    "guess_limit = 3\n",
    "\n",
    "while guess_count < guess_limit:\n",
    "    guess = int(input('Enter your guess-'))\n",
    "    guess_count += 1\n",
    "    if guess == secret:\n",
    "        print('Correct guess')\n",
    "        break\n",
    "else:\n",
    "    print('You lose!')"
   ]
  },
  {
   "cell_type": "markdown",
   "metadata": {},
   "source": [
    "# For loop"
   ]
  },
  {
   "cell_type": "code",
   "execution_count": 25,
   "metadata": {},
   "outputs": [
    {
     "name": "stdout",
     "output_type": "stream",
     "text": [
      "j\n",
      "a\n",
      "v\n",
      "a\n"
     ]
    }
   ],
   "source": [
    "for item in 'java':\n",
    "    print(item)"
   ]
  },
  {
   "cell_type": "code",
   "execution_count": 26,
   "metadata": {},
   "outputs": [
    {
     "name": "stdout",
     "output_type": "stream",
     "text": [
      "java\n",
      "c\n",
      "JS\n"
     ]
    }
   ],
   "source": [
    "for item in ['java','c','JS']:\n",
    "    print(item)"
   ]
  },
  {
   "cell_type": "code",
   "execution_count": 27,
   "metadata": {},
   "outputs": [
    {
     "name": "stdout",
     "output_type": "stream",
     "text": [
      "0\n",
      "1\n",
      "2\n",
      "3\n",
      "4\n"
     ]
    }
   ],
   "source": [
    "for i in range(5):\n",
    "    print(i)"
   ]
  },
  {
   "cell_type": "code",
   "execution_count": 28,
   "metadata": {},
   "outputs": [
    {
     "name": "stdout",
     "output_type": "stream",
     "text": [
      "5\n",
      "6\n",
      "7\n",
      "8\n",
      "9\n"
     ]
    }
   ],
   "source": [
    "for i in range(5,10):\n",
    "    print(i)"
   ]
  },
  {
   "cell_type": "code",
   "execution_count": 29,
   "metadata": {},
   "outputs": [
    {
     "name": "stdout",
     "output_type": "stream",
     "text": [
      "5\n",
      "7\n",
      "9\n"
     ]
    }
   ],
   "source": [
    "#range has 3 args range(start,end,step)\n",
    "for i in range(5,10,2): \n",
    "    print(i)"
   ]
  },
  {
   "cell_type": "markdown",
   "metadata": {},
   "source": [
    "# Draw F using X on terminal"
   ]
  },
  {
   "cell_type": "code",
   "execution_count": 30,
   "metadata": {},
   "outputs": [
    {
     "name": "stdout",
     "output_type": "stream",
     "text": [
      "XXXXX\n",
      "XX\n",
      "XXXXX\n",
      "XX\n",
      "XX\n"
     ]
    }
   ],
   "source": [
    "x_counts=[5,2,5,2,2]\n",
    "\n",
    "for item in x_counts:\n",
    "    print('X' * item)"
   ]
  },
  {
   "cell_type": "code",
   "execution_count": 31,
   "metadata": {},
   "outputs": [
    {
     "name": "stdout",
     "output_type": "stream",
     "text": [
      "XXXXX\n",
      "XX\n",
      "XXXXX\n",
      "XX\n",
      "XX\n"
     ]
    }
   ],
   "source": [
    "x_counts=[5,2,5,2,2]\n",
    "\n",
    "for item in x_counts:\n",
    "    output =''\n",
    "    for i in range(item):\n",
    "        output +='X'\n",
    "    print(output)"
   ]
  },
  {
   "cell_type": "markdown",
   "metadata": {},
   "source": [
    "# LISTS"
   ]
  },
  {
   "cell_type": "code",
   "execution_count": 32,
   "metadata": {},
   "outputs": [],
   "source": [
    "numbers = [2,5,6,7,8]"
   ]
  },
  {
   "cell_type": "code",
   "execution_count": 33,
   "metadata": {},
   "outputs": [
    {
     "name": "stdout",
     "output_type": "stream",
     "text": [
      "[2, 5, 6, 7, 8, 9]\n"
     ]
    }
   ],
   "source": [
    "numbers.append(9)\n",
    "print(numbers)"
   ]
  },
  {
   "cell_type": "code",
   "execution_count": 34,
   "metadata": {},
   "outputs": [
    {
     "name": "stdout",
     "output_type": "stream",
     "text": [
      "[1, 2, 5, 6, 7, 8, 9]\n"
     ]
    }
   ],
   "source": [
    "#insert(position,value_to_insert)\n",
    "numbers.insert(0,1)\n",
    "print(numbers)"
   ]
  },
  {
   "cell_type": "code",
   "execution_count": 35,
   "metadata": {},
   "outputs": [
    {
     "name": "stdout",
     "output_type": "stream",
     "text": [
      "[1, 2, 6, 7, 8, 9]\n"
     ]
    }
   ],
   "source": [
    "numbers.remove(5)\n",
    "print(numbers)"
   ]
  },
  {
   "cell_type": "code",
   "execution_count": 36,
   "metadata": {},
   "outputs": [
    {
     "name": "stdout",
     "output_type": "stream",
     "text": [
      "[]\n"
     ]
    }
   ],
   "source": [
    "numbers.clear()\n",
    "print(numbers)"
   ]
  },
  {
   "cell_type": "code",
   "execution_count": 37,
   "metadata": {},
   "outputs": [
    {
     "name": "stdout",
     "output_type": "stream",
     "text": [
      "8\n",
      "[2, 5, 5, 6, 7]\n"
     ]
    }
   ],
   "source": [
    "numbers = [2,5,5,6,7,8]\n",
    "print(numbers.pop())\n",
    "print(numbers)"
   ]
  },
  {
   "cell_type": "code",
   "execution_count": 38,
   "metadata": {},
   "outputs": [
    {
     "data": {
      "text/plain": [
       "4"
      ]
     },
     "execution_count": 38,
     "metadata": {},
     "output_type": "execute_result"
    }
   ],
   "source": [
    "# returns first occurence index from list, gives error if item not present\n",
    "numbers.index(7)"
   ]
  },
  {
   "cell_type": "code",
   "execution_count": 39,
   "metadata": {},
   "outputs": [
    {
     "data": {
      "text/plain": [
       "True"
      ]
     },
     "execution_count": 39,
     "metadata": {},
     "output_type": "execute_result"
    }
   ],
   "source": [
    "# returns Boolean value, not an error! !!SAFE TO USE!!\n",
    "7 in numbers"
   ]
  },
  {
   "cell_type": "code",
   "execution_count": 40,
   "metadata": {},
   "outputs": [
    {
     "data": {
      "text/plain": [
       "2"
      ]
     },
     "execution_count": 40,
     "metadata": {},
     "output_type": "execute_result"
    }
   ],
   "source": [
    "# returns no of occurences of provided number\n",
    "numbers.count(5)"
   ]
  },
  {
   "cell_type": "code",
   "execution_count": 41,
   "metadata": {},
   "outputs": [
    {
     "name": "stdout",
     "output_type": "stream",
     "text": [
      "None\n",
      "[2, 5, 5, 6, 7]\n"
     ]
    }
   ],
   "source": [
    "#SORTING\n",
    "print(numbers.sort()) #does not return anything, sorts in place ASC\n",
    "print(numbers)"
   ]
  },
  {
   "cell_type": "code",
   "execution_count": 42,
   "metadata": {},
   "outputs": [
    {
     "name": "stdout",
     "output_type": "stream",
     "text": [
      "[8, 7, 6, 5, 5, 2]\n"
     ]
    }
   ],
   "source": [
    "numbers = [2,5,5,6,7,8]\n",
    "numbers.sort()\n",
    "numbers.reverse() # DESCENDING sorting\n",
    "print(numbers)"
   ]
  },
  {
   "cell_type": "markdown",
   "metadata": {},
   "source": [
    "# Remove duplicates from a list"
   ]
  },
  {
   "cell_type": "code",
   "execution_count": 43,
   "metadata": {},
   "outputs": [],
   "source": [
    "mylist = [2,2,4,5,5,6,7,8,99,9,9]\n",
    "uniques=[]"
   ]
  },
  {
   "cell_type": "code",
   "execution_count": 44,
   "metadata": {},
   "outputs": [
    {
     "name": "stdout",
     "output_type": "stream",
     "text": [
      "[2, 4, 5, 6, 7, 8, 99, 9]\n"
     ]
    }
   ],
   "source": [
    "for item in mylist:\n",
    "    if item not in uniques:\n",
    "        uniques.append(item)\n",
    "print(uniques)"
   ]
  },
  {
   "cell_type": "markdown",
   "metadata": {},
   "source": [
    "# Tuples"
   ]
  },
  {
   "cell_type": "code",
   "execution_count": 45,
   "metadata": {},
   "outputs": [
    {
     "name": "stdout",
     "output_type": "stream",
     "text": [
      "1\n"
     ]
    },
    {
     "data": {
      "text/plain": [
       "2"
      ]
     },
     "execution_count": 45,
     "metadata": {},
     "output_type": "execute_result"
    }
   ],
   "source": [
    "#tuples are immutable, we can not change\n",
    "tuple = (1,2,3) #defined with round bracket\n",
    "print(tuple.count(1)) #count occurence\n",
    "tuple.index(3) #get first matching index"
   ]
  },
  {
   "cell_type": "markdown",
   "metadata": {},
   "source": [
    "# Unpacking"
   ]
  },
  {
   "cell_type": "code",
   "execution_count": 46,
   "metadata": {},
   "outputs": [
    {
     "name": "stdout",
     "output_type": "stream",
     "text": [
      "1 2 3\n"
     ]
    }
   ],
   "source": [
    "# works on tuples\n",
    "coords = (1,2,3)\n",
    "x,y,z = coords\n",
    "print(x,y,z)"
   ]
  },
  {
   "cell_type": "code",
   "execution_count": 47,
   "metadata": {},
   "outputs": [
    {
     "name": "stdout",
     "output_type": "stream",
     "text": [
      "1 2 3\n"
     ]
    }
   ],
   "source": [
    "#works on lists\n",
    "coords = [1,2,3]\n",
    "x,y,z = coords\n",
    "print(x,y,z)"
   ]
  },
  {
   "cell_type": "code",
   "execution_count": 48,
   "metadata": {},
   "outputs": [
    {
     "name": "stdout",
     "output_type": "stream",
     "text": [
      "[1, 2, 3] [4, 5, 6] [7, 8, 9]\n",
      "1 2 3\n"
     ]
    }
   ],
   "source": [
    "coords = [\n",
    "    [1,2,3],\n",
    "    [4,5,6],\n",
    "    [7,8,9]\n",
    "]\n",
    "x,y,z = coords\n",
    "print(x,y,z)\n",
    "j,k,l =x\n",
    "print(j,k,l)"
   ]
  },
  {
   "cell_type": "markdown",
   "metadata": {},
   "source": [
    "# Dictionaries"
   ]
  },
  {
   "cell_type": "markdown",
   "metadata": {},
   "source": [
    "Dictionaries are bunch of key-value paiirs, like a JSON object. we can not have same 2 keys. each key must be unique.\n",
    "They are decleared by using {} brackets."
   ]
  },
  {
   "cell_type": "code",
   "execution_count": 49,
   "metadata": {},
   "outputs": [],
   "source": [
    "customer = {\n",
    "    \"name\":\"pranav\",\n",
    "    \"age\": 30,\n",
    "    \"is_good\":True\n",
    "}"
   ]
  },
  {
   "cell_type": "code",
   "execution_count": 50,
   "metadata": {},
   "outputs": [
    {
     "name": "stdout",
     "output_type": "stream",
     "text": [
      "{'name': 'pranav', 'age': 30, 'is_good': True}\n",
      "pranav\n"
     ]
    }
   ],
   "source": [
    "print(customer)\n",
    "print(customer['name']) #not safe to use, if key doesnt exists then gives error"
   ]
  },
  {
   "cell_type": "code",
   "execution_count": 51,
   "metadata": {},
   "outputs": [
    {
     "data": {
      "text/plain": [
       "'pranav'"
      ]
     },
     "execution_count": 51,
     "metadata": {},
     "output_type": "execute_result"
    }
   ],
   "source": [
    "#get(<key>) use this as its safer and doesn't give any error\n",
    "customer.get(\"name\")"
   ]
  },
  {
   "cell_type": "code",
   "execution_count": 52,
   "metadata": {},
   "outputs": [
    {
     "data": {
      "text/plain": [
       "'waikar'"
      ]
     },
     "execution_count": 52,
     "metadata": {},
     "output_type": "execute_result"
    }
   ],
   "source": [
    "#get(key,default_value) - if key doesn't exists then returns specified default value for it, DOESNT ADD the key in dictionary\n",
    "customer.get(\"surname\",\"waikar\")"
   ]
  },
  {
   "cell_type": "code",
   "execution_count": 53,
   "metadata": {},
   "outputs": [
    {
     "name": "stdout",
     "output_type": "stream",
     "text": [
      "{'name': 'pranav', 'age': 30, 'is_good': True, 'surname': 'waikar'}\n"
     ]
    }
   ],
   "source": [
    "#TO add a new value to dictionary\n",
    "customer[\"surname\"] =\"waikar\"\n",
    "print(customer)"
   ]
  },
  {
   "cell_type": "markdown",
   "metadata": {},
   "source": [
    "# program to convert numbers to words"
   ]
  },
  {
   "cell_type": "code",
   "execution_count": 54,
   "metadata": {},
   "outputs": [],
   "source": [
    "numbers = {\n",
    "    \"1\":\"One\",\n",
    "    \"2\":\"Two\",\n",
    "    \"3\":\"Three\",\n",
    "    \"4\":\"Four\",\n",
    "    \"5\":\"Five\",\n",
    "    \"6\":\"Six\",\n",
    "    \"7\":\"Seven\",\n",
    "    \"8\":\"Eight\",\n",
    "    \"9\":\"Nine\",\n",
    "    \"0\":\"Zero\"\n",
    "}"
   ]
  },
  {
   "cell_type": "code",
   "execution_count": 55,
   "metadata": {},
   "outputs": [
    {
     "name": "stdout",
     "output_type": "stream",
     "text": [
      "Enter a number:-765\n",
      "Seven Six Five \n"
     ]
    }
   ],
   "source": [
    "output=\"\"\n",
    "num = input(\"Enter a number:-\")\n",
    "for item in num:\n",
    "    output +=numbers.get(item,\"!\") +\" \"\n",
    "print(output)"
   ]
  },
  {
   "cell_type": "markdown",
   "metadata": {},
   "source": [
    "# Emoji converter"
   ]
  },
  {
   "cell_type": "code",
   "execution_count": 56,
   "metadata": {},
   "outputs": [],
   "source": [
    "# press win+. to open emotes keyboard\n",
    "emotes = {\n",
    "    \":(\" : \"😒\",\n",
    "    \":)\" : \"🙂\"\n",
    "}"
   ]
  },
  {
   "cell_type": "code",
   "execution_count": 57,
   "metadata": {},
   "outputs": [
    {
     "name": "stdout",
     "output_type": "stream",
     "text": [
      "Enter with emotes-Hi :) ... Bye:(\n",
      "Hi 🙂 ... Bye:( \n"
     ]
    }
   ],
   "source": [
    "sentence = input(\"Enter with emotes-\")\n",
    "words = sentence.split(\" \")\n",
    "\n",
    "output = \"\"\n",
    "for word in words:\n",
    "    output += emotes.get(word,word) + \" \"\n",
    "print(output)"
   ]
  },
  {
   "cell_type": "markdown",
   "metadata": {},
   "source": [
    "# Functions"
   ]
  },
  {
   "cell_type": "markdown",
   "metadata": {},
   "source": [
    "Use def keyword to define functions. functions can take parameters also.\n",
    "Leave 2 spaces after function declaration according to PEP 8 standards (Python Enhancement Proposal 8)"
   ]
  },
  {
   "cell_type": "code",
   "execution_count": 58,
   "metadata": {},
   "outputs": [],
   "source": [
    "def print_name(fname,lname):\n",
    "    print(f\"Hello {fname} {lname}\")\n",
    "\n",
    "\n",
    "def print_msg():\n",
    "    print(\"Hello there!\")\n",
    "\n"
   ]
  },
  {
   "cell_type": "code",
   "execution_count": 59,
   "metadata": {},
   "outputs": [
    {
     "name": "stdout",
     "output_type": "stream",
     "text": [
      "Hello there!\n",
      "Hello pranav waikar\n"
     ]
    }
   ],
   "source": [
    "print_msg()\n",
    "print_name('pranav','waikar')"
   ]
  },
  {
   "cell_type": "markdown",
   "metadata": {},
   "source": [
    "The function specified below has positional arguments. means if we change the position then the output skews from desired one.\n",
    "The other type is 'keyword arguments'. function call where parameter name and argument both are specified is keyword argument. its useful for lot of numerical parametered functions.\n",
    "Rule : Decleare positional arguments first and then keyword arguments"
   ]
  },
  {
   "cell_type": "code",
   "execution_count": 60,
   "metadata": {},
   "outputs": [
    {
     "name": "stdout",
     "output_type": "stream",
     "text": [
      "Hello Radhika waikar\n"
     ]
    }
   ],
   "source": [
    "print_name(fname=\"Radhika\",lname=\"waikar\")"
   ]
  },
  {
   "cell_type": "code",
   "execution_count": 61,
   "metadata": {},
   "outputs": [
    {
     "name": "stdout",
     "output_type": "stream",
     "text": [
      "Hello Kiran Waikar\n"
     ]
    }
   ],
   "source": [
    "print_name(\"Kiran\",lname=\"Waikar\")"
   ]
  },
  {
   "cell_type": "code",
   "execution_count": 62,
   "metadata": {},
   "outputs": [
    {
     "name": "stdout",
     "output_type": "stream",
     "text": [
      "Hello pranav waikar\n",
      "Hello radhika waikar\n",
      "Hello pranav kulkarni\n",
      "Hello jayashri waikar\n"
     ]
    }
   ],
   "source": [
    "#Default value functions - takes arguments if specified else runs with default values\n",
    "def print_namex(fname=\"pranav\",lname=\"waikar\"):\n",
    "    print(f\"Hello {fname} {lname}\")\n",
    "print_namex()\n",
    "print_namex(\"radhika\")\n",
    "print_namex(lname=\"kulkarni\")\n",
    "print_namex(fname=\"jayashri\")"
   ]
  },
  {
   "cell_type": "markdown",
   "metadata": {},
   "source": [
    "Every function by default returns 'None' object unless you return anything."
   ]
  },
  {
   "cell_type": "code",
   "execution_count": 63,
   "metadata": {},
   "outputs": [
    {
     "name": "stdout",
     "output_type": "stream",
     "text": [
      "Hello pranav waikar\n",
      "None\n"
     ]
    }
   ],
   "source": [
    "print(print_namex())"
   ]
  },
  {
   "cell_type": "markdown",
   "metadata": {},
   "source": [
    "# Exception handling"
   ]
  },
  {
   "cell_type": "code",
   "execution_count": 64,
   "metadata": {},
   "outputs": [
    {
     "name": "stdout",
     "output_type": "stream",
     "text": [
      "Enter number-0\n",
      "ERROR!\n",
      "Goodbye, world!\n"
     ]
    }
   ],
   "source": [
    "try:\n",
    "    num = int(input('Enter number-'))\n",
    "    num = num/num\n",
    "    print(num)\n",
    "except ValueError: #can catch specified exception, #enter asd\n",
    "    print('ValueError: Enter a digit, not a char')\n",
    "except: #can catch any exception\n",
    "    print('ERROR!') #enter 0\n",
    "else: #if no exception caught, this executes, #enter 5\n",
    "    print('No exception caught')\n",
    "finally: #always executed no matter what\n",
    "    print ('Goodbye, world!')"
   ]
  },
  {
   "cell_type": "markdown",
   "metadata": {},
   "source": [
    "# Classes"
   ]
  },
  {
   "cell_type": "markdown",
   "metadata": {},
   "source": [
    "For classes naming convention is 'Pascal'. Pascal convention means capitalize every first letter of every word. \n",
    "The variables and function convention is every lower case letter with _ as a seperator.  "
   ]
  },
  {
   "cell_type": "code",
   "execution_count": 65,
   "metadata": {},
   "outputs": [],
   "source": [
    "class Point:\n",
    "    def move(self):\n",
    "        print('MOVE')\n",
    "    \n",
    "    \n",
    "    def draw(self):\n",
    "        print('DRAW')\n",
    "        \n",
    "        "
   ]
  },
  {
   "cell_type": "code",
   "execution_count": 66,
   "metadata": {},
   "outputs": [
    {
     "name": "stdout",
     "output_type": "stream",
     "text": [
      "10 10\n"
     ]
    }
   ],
   "source": [
    "point1  = Point()\n",
    "point1.x = 10\n",
    "point1.y = 10\n",
    "print(point1.x,point1.y)"
   ]
  },
  {
   "cell_type": "code",
   "execution_count": 67,
   "metadata": {},
   "outputs": [],
   "source": [
    "# using constructor. NOTE:-- self in python => this in java\n",
    "class Point:\n",
    "    def __init__(self,x,y):\n",
    "        self.x=x\n",
    "        self.y=y\n",
    "        \n",
    "        \n",
    "    def move(self):\n",
    "        print('MOVE')\n",
    "    \n",
    "    \n",
    "    def draw(self):\n",
    "        print('DRAW')\n",
    "        \n",
    "        "
   ]
  },
  {
   "cell_type": "code",
   "execution_count": 68,
   "metadata": {},
   "outputs": [
    {
     "name": "stdout",
     "output_type": "stream",
     "text": [
      "MOVE\n"
     ]
    }
   ],
   "source": [
    "point2 = Point(10,20)\n",
    "point2.move()"
   ]
  },
  {
   "cell_type": "markdown",
   "metadata": {},
   "source": [
    "# Inheritance"
   ]
  },
  {
   "cell_type": "markdown",
   "metadata": {},
   "source": [
    "In programming we have principle called 'DRY' ie. Dont Repeat Yourself.  so we use inheritance.\n",
    "After each class you should have 2 line breaks (PEP 8). \n",
    "Python doesn't allow empty class. so, you should write \"pass\" statement so that interpreter passes that class as not blank.\n",
    "write the name of inheriting class in brackets to inherite it."
   ]
  },
  {
   "cell_type": "code",
   "execution_count": 69,
   "metadata": {},
   "outputs": [],
   "source": [
    "class Mammels:\n",
    "    def walk(self):\n",
    "        print(\"WALK\")\n",
    "        \n",
    "class Dog(Mammels):\n",
    "    pass\n",
    "\n",
    "\n",
    "class Cat(Mammels):\n",
    "    pass"
   ]
  },
  {
   "cell_type": "code",
   "execution_count": 70,
   "metadata": {},
   "outputs": [
    {
     "name": "stdout",
     "output_type": "stream",
     "text": [
      "WALK\n",
      "WALK\n"
     ]
    }
   ],
   "source": [
    "dog = Dog()\n",
    "dog.walk()\n",
    "cat = Cat()\n",
    "cat.walk()"
   ]
  },
  {
   "cell_type": "markdown",
   "metadata": {},
   "source": [
    "# Modules"
   ]
  },
  {
   "cell_type": "markdown",
   "metadata": {},
   "source": [
    "In modules, we can break down code in different files and by using imports we can access their functionality.\n",
    "create a new file - mymath.py in same directory with following code - \n",
    "def addn(x,y):\n",
    "    print(f\"Addition={x+y}\")\n",
    "\n"
   ]
  },
  {
   "cell_type": "code",
   "execution_count": 71,
   "metadata": {},
   "outputs": [
    {
     "name": "stdout",
     "output_type": "stream",
     "text": [
      "Addition=30\n"
     ]
    }
   ],
   "source": [
    "import mymath\n",
    "mymath.addn(10,20)"
   ]
  },
  {
   "cell_type": "markdown",
   "metadata": {},
   "source": [
    "# Packages"
   ]
  },
  {
   "cell_type": "markdown",
   "metadata": {},
   "source": [
    "These are collection of modules of similar kind. Its like a folder with all python files."
   ]
  },
  {
   "cell_type": "markdown",
   "metadata": {},
   "source": [
    "create a new folder with a file - __init__.py \n",
    "This file makes interpreter treat that folder as a python package.\n",
    "Then add your own files to that folder like mymath"
   ]
  },
  {
   "cell_type": "code",
   "execution_count": 72,
   "metadata": {},
   "outputs": [
    {
     "name": "stdout",
     "output_type": "stream",
     "text": [
      "Addition=30\n"
     ]
    }
   ],
   "source": [
    "#Good approach if you want to use many functions of same class\n",
    "from calculator import mymath\n",
    "mymath.addn(10,20)"
   ]
  },
  {
   "cell_type": "code",
   "execution_count": 73,
   "metadata": {},
   "outputs": [
    {
     "name": "stdout",
     "output_type": "stream",
     "text": [
      "Addition=30\n"
     ]
    }
   ],
   "source": [
    "from calculator.mymath import addn\n",
    "addn(10,20)"
   ]
  },
  {
   "cell_type": "markdown",
   "metadata": {},
   "source": [
    "For builtin modules search - python 3 module index - it gives us all the data we can directly use. \n",
    "eg. module random"
   ]
  },
  {
   "cell_type": "code",
   "execution_count": 74,
   "metadata": {},
   "outputs": [
    {
     "name": "stdout",
     "output_type": "stream",
     "text": [
      "0.829891042471658\n",
      "10\n"
     ]
    }
   ],
   "source": [
    "import random\n",
    "print(random.random()) # returns random between 0.0 to 1.0\n",
    "print(random.randint(10,20)) # Returns value betwwen specified limits"
   ]
  },
  {
   "cell_type": "code",
   "execution_count": 75,
   "metadata": {},
   "outputs": [
    {
     "name": "stdout",
     "output_type": "stream",
     "text": [
      "kiran\n"
     ]
    }
   ],
   "source": [
    "lst = ['pranav','radhika','kiran','jayashri']\n",
    "print(random.choice(lst)) # chooses a random value from given list"
   ]
  },
  {
   "cell_type": "markdown",
   "metadata": {},
   "source": [
    "# Program to roll the 2 dice returning a valued tuple"
   ]
  },
  {
   "cell_type": "code",
   "execution_count": 76,
   "metadata": {},
   "outputs": [
    {
     "name": "stdout",
     "output_type": "stream",
     "text": [
      "<class 'tuple'>\n",
      "(5, 6)\n"
     ]
    }
   ],
   "source": [
    "import random\n",
    "class Dice:\n",
    "    def __init__(self):\n",
    "        self.x = 0\n",
    "        self.y = 0\n",
    "\n",
    "\n",
    "    def roll(self):\n",
    "        self.x = random.randint(1,6)\n",
    "        self.y = random.randint(1,6)\n",
    "        return self.x,self.y #IMP: even without the square brackets, python assuems it as tuple\n",
    "\n",
    "\n",
    "dice = Dice()\n",
    "tp1 = dice.roll()\n",
    "print(type(tp1))\n",
    "print(tp1)"
   ]
  },
  {
   "cell_type": "markdown",
   "metadata": {},
   "source": [
    "# File system interactions using pathlib"
   ]
  },
  {
   "cell_type": "code",
   "execution_count": 77,
   "metadata": {},
   "outputs": [
    {
     "name": "stdout",
     "output_type": "stream",
     "text": [
      ".ipynb_checkpoints\n",
      "calculator\n",
      "Core python tutorial.ipynb\n",
      "mymath.py\n",
      "start.py\n",
      "__pycache__\n"
     ]
    }
   ],
   "source": [
    "from pathlib import Path\n",
    "path = Path() # if no arg is given as path then it considers current directory as path\n",
    "# use glob() method to find out about containing files\n",
    "files = path.glob('*') # Use REGEX if required here\n",
    "for file in files:\n",
    "    print(file)"
   ]
  },
  {
   "cell_type": "code",
   "execution_count": 78,
   "metadata": {},
   "outputs": [
    {
     "data": {
      "text/plain": [
       "True"
      ]
     },
     "execution_count": 78,
     "metadata": {},
     "output_type": "execute_result"
    }
   ],
   "source": [
    "path.exists() # Check if dir exists or not"
   ]
  },
  {
   "cell_type": "markdown",
   "metadata": {},
   "source": [
    "# PyPI and pip"
   ]
  },
  {
   "cell_type": "markdown",
   "metadata": {},
   "source": [
    "PyPI - Python Package Index (Its an indexing of python packages by a community of developers)\n",
    "pip - Its a package manager tool which installs packages. Its a recursive acryonym  for (Pip installs Python OR Pip installs Packages)"
   ]
  },
  {
   "cell_type": "markdown",
   "metadata": {},
   "source": [
    "Run command on terminal like - pip install openpyxl from current directory\n",
    "In jupyter notebook paste command in code line and run. you can also use \"conda install openpyxl\" for anaconda.\n",
    "Also can open terminal from Home->new->Terminal and type commands there."
   ]
  },
  {
   "cell_type": "code",
   "execution_count": 79,
   "metadata": {},
   "outputs": [
    {
     "name": "stdout",
     "output_type": "stream",
     "text": [
      "Requirement already satisfied: openpyxl in d:\\system\\programs\\anacodna\\lib\\site-packages (2.6.2)\n",
      "Requirement already satisfied: et-xmlfile in d:\\system\\programs\\anacodna\\lib\\site-packages (from openpyxl) (1.0.1)\n",
      "Requirement already satisfied: jdcal in d:\\system\\programs\\anacodna\\lib\\site-packages (from openpyxl) (1.4.1)\n",
      "Note: you may need to restart the kernel to use updated packages.\n"
     ]
    }
   ],
   "source": [
    "pip install openpyxl"
   ]
  },
  {
   "cell_type": "markdown",
   "metadata": {},
   "source": [
    "Hence the core python concepts tutorial is complete. Now you can easily move to creating projects."
   ]
  }
 ],
 "metadata": {
  "kernelspec": {
   "display_name": "Python 3",
   "language": "python",
   "name": "python3"
  },
  "language_info": {
   "codemirror_mode": {
    "name": "ipython",
    "version": 3
   },
   "file_extension": ".py",
   "mimetype": "text/x-python",
   "name": "python",
   "nbconvert_exporter": "python",
   "pygments_lexer": "ipython3",
   "version": "3.7.3"
  }
 },
 "nbformat": 4,
 "nbformat_minor": 2
}
